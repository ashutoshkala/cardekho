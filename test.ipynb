{
 "cells": [
  {
   "cell_type": "code",
   "execution_count": 71,
   "id": "bd8fef4a-deeb-497d-b966-930104cbff8a",
   "metadata": {},
   "outputs": [],
   "source": [
    "#brand and name , age ,km_driven,seller_type(ind/dealer),fuel_type(petrol/d/cng),transmission_type(man/amt),mileage\n",
    "#engine, max_power,seats    ##selling price\n",
    "x=['Maruti Alto',9,70000,\"indivisual\",\"Petrol\",\"Manual\",19.2,1197,82.00,5]\n",
    "\n",
    "#array(['Petrol', 'Diesel', 'CNG', 'LPG', 'Electric'])\n",
    "\n",
    "data = {\n",
    "    'car_name': 'Maruti Alto',\n",
    "        'vehicle_age': 9,\n",
    "        'km_driven':3400,\n",
    "        'seller_type':'Individual',\n",
    "        'fuel_type':'Petrol',\n",
    "        'transmission_type':'Manual',\n",
    "        'mileage':19.8,\n",
    "        'engine':796,\n",
    "        'max_power':46.3,\n",
    "        'seats':5\n",
    "       } \n"
   ]
  },
  {
   "cell_type": "code",
   "execution_count": null,
   "id": "47ba296c-128e-4802-8e83-c7ef545d1a2f",
   "metadata": {},
   "outputs": [],
   "source": []
  },
  {
   "cell_type": "code",
   "execution_count": 102,
   "id": "f76e5ea9-1909-424e-8413-e4706ef5cc99",
   "metadata": {},
   "outputs": [
    {
     "data": {
      "text/plain": [
       "array(['Petrol', 'Diesel', 'CNG', 'LPG', 'Electric'], dtype=object)"
      ]
     },
     "execution_count": 102,
     "metadata": {},
     "output_type": "execute_result"
    }
   ],
   "source": [
    "X['fuel_type'].unique()"
   ]
  },
  {
   "cell_type": "code",
   "execution_count": 72,
   "id": "d6c7cfe2-6ebc-489e-9072-296a0de1bab9",
   "metadata": {},
   "outputs": [],
   "source": [
    "import pandas as pd"
   ]
  },
  {
   "cell_type": "code",
   "execution_count": 73,
   "id": "05d366d3-2143-42da-bf82-2ae3ec20461d",
   "metadata": {},
   "outputs": [],
   "source": [
    "df = pd.DataFrame(data, index=[0])"
   ]
  },
  {
   "cell_type": "code",
   "execution_count": 93,
   "id": "c5daed60-0795-406d-9ef9-59157270326e",
   "metadata": {},
   "outputs": [
    {
     "data": {
      "text/plain": [
       "Index(['car_name', 'vehicle_age', 'km_driven', 'seller_type', 'fuel_type',\n",
       "       'transmission_type', 'mileage', 'engine', 'max_power', 'seats'],\n",
       "      dtype='object')"
      ]
     },
     "execution_count": 93,
     "metadata": {},
     "output_type": "execute_result"
    }
   ],
   "source": [
    "df.columns"
   ]
  },
  {
   "cell_type": "code",
   "execution_count": 46,
   "id": "67dbe323-0b08-47c5-8f76-445c7716f4eb",
   "metadata": {},
   "outputs": [],
   "source": [
    "x=df.values"
   ]
  },
  {
   "cell_type": "code",
   "execution_count": 47,
   "id": "2b2af531-3f6c-4fa5-9065-e9a090e72119",
   "metadata": {},
   "outputs": [
    {
     "data": {
      "text/plain": [
       "array([['Maruti Alto', 9, 3400, 'Indivisual', 'Petrol', 'Manual', 19.8,\n",
       "        1997, 340.3, 5]], dtype=object)"
      ]
     },
     "execution_count": 47,
     "metadata": {},
     "output_type": "execute_result"
    }
   ],
   "source": [
    "x"
   ]
  },
  {
   "cell_type": "code",
   "execution_count": null,
   "id": "652730d5-3783-48e3-9b4a-82fb190d4f57",
   "metadata": {},
   "outputs": [],
   "source": []
  },
  {
   "cell_type": "code",
   "execution_count": null,
   "id": "18c52822-3400-4065-ad2f-d1cb0a9c19fc",
   "metadata": {},
   "outputs": [],
   "source": []
  },
  {
   "cell_type": "code",
   "execution_count": 17,
   "id": "0926c4fb-f07e-4a24-ab3a-1c8503638a97",
   "metadata": {},
   "outputs": [
    {
     "name": "stdout",
     "output_type": "stream",
     "text": [
      "<class 'pandas.core.frame.DataFrame'>\n",
      "Index: 1 entries, 0 to 0\n",
      "Data columns (total 10 columns):\n",
      " #   Column             Non-Null Count  Dtype  \n",
      "---  ------             --------------  -----  \n",
      " 0   car_name           1 non-null      object \n",
      " 1   age                1 non-null      int64  \n",
      " 2   km_driven          1 non-null      int64  \n",
      " 3   seller_type        1 non-null      object \n",
      " 4   fuel_type          1 non-null      object \n",
      " 5   transmission_type  1 non-null      object \n",
      " 6   mileage            1 non-null      float64\n",
      " 7   engine             1 non-null      int64  \n",
      " 8   max_power          1 non-null      float64\n",
      " 9   seats              1 non-null      int64  \n",
      "dtypes: float64(2), int64(4), object(4)\n",
      "memory usage: 88.0+ bytes\n"
     ]
    }
   ],
   "source": [
    "df.info()"
   ]
  },
  {
   "cell_type": "code",
   "execution_count": 18,
   "id": "fa8d42f6-0bc3-4f97-ba23-f8e2bf9906b0",
   "metadata": {},
   "outputs": [],
   "source": [
    "X=df"
   ]
  },
  {
   "cell_type": "code",
   "execution_count": 19,
   "id": "bb0420aa-11fb-49bb-9517-fa0991a53156",
   "metadata": {},
   "outputs": [],
   "source": [
    "num_features = X.select_dtypes(exclude=\"object\").columns\n",
    "onehot_columns = ['seller_type','fuel_type','transmission_type']\n",
    "binary_columns = ['car_name']\n",
    "\n",
    "from sklearn.preprocessing import OneHotEncoder, StandardScaler\n",
    "from category_encoders.binary import BinaryEncoder\n",
    "from sklearn.compose import ColumnTransformer\n",
    "\n",
    "numeric_transformer = StandardScaler()\n",
    "oh_transformer = OneHotEncoder()\n",
    "binary_transformer = BinaryEncoder()\n",
    "\n",
    "preprocessor = ColumnTransformer(\n",
    "    [\n",
    "        (\"OneHotEncoder\", oh_transformer, onehot_columns),\n",
    "         (\"StandardScaler\", numeric_transformer, num_features),\n",
    "        (\"BinaryEncoder\", binary_transformer, binary_columns)\n",
    "        \n",
    "    ]\n",
    ")"
   ]
  },
  {
   "cell_type": "code",
   "execution_count": 20,
   "id": "f7c4ffa8-3ccb-4470-a370-d356dccf91ee",
   "metadata": {},
   "outputs": [],
   "source": [
    "X=preprocessor.fit_transform(X)"
   ]
  },
  {
   "cell_type": "code",
   "execution_count": 23,
   "id": "b6205ca9-58cd-4541-b54d-daceb1b1991b",
   "metadata": {},
   "outputs": [
    {
     "data": {
      "text/plain": [
       "10"
      ]
     },
     "execution_count": 23,
     "metadata": {},
     "output_type": "execute_result"
    }
   ],
   "source": [
    "len(X[0])"
   ]
  },
  {
   "cell_type": "code",
   "execution_count": 1,
   "id": "348f2a75-355c-4eba-b9a5-1505711993b4",
   "metadata": {},
   "outputs": [],
   "source": [
    "import pandas as pd \n",
    "import numpy as np \n",
    "import matplotlib.pyplot as plt \n",
    "import seaborn as sns \n",
    "import plotly.express as px \n",
    "import warnings\n",
    "import os\n",
    "from six.moves import urllib\n",
    "warnings.filterwarnings(\"ignore\")\n",
    "\n",
    "%matplotlib inline\n"
   ]
  },
  {
   "cell_type": "code",
   "execution_count": 2,
   "id": "85d6b530-74d6-40f4-8eca-598153be4d20",
   "metadata": {},
   "outputs": [],
   "source": [
    "df=pd.read_csv('./data/cardekho_dataset.csv')"
   ]
  },
  {
   "cell_type": "code",
   "execution_count": 3,
   "id": "631b99b5-8cb9-44f4-8d6f-072607186c80",
   "metadata": {},
   "outputs": [
    {
     "name": "stdout",
     "output_type": "stream",
     "text": [
      "<class 'pandas.core.frame.DataFrame'>\n",
      "RangeIndex: 15411 entries, 0 to 15410\n",
      "Data columns (total 14 columns):\n",
      " #   Column             Non-Null Count  Dtype  \n",
      "---  ------             --------------  -----  \n",
      " 0   Unnamed: 0         15411 non-null  int64  \n",
      " 1   car_name           15411 non-null  object \n",
      " 2   brand              15411 non-null  object \n",
      " 3   model              15411 non-null  object \n",
      " 4   vehicle_age        15411 non-null  int64  \n",
      " 5   km_driven          15411 non-null  int64  \n",
      " 6   seller_type        15411 non-null  object \n",
      " 7   fuel_type          15411 non-null  object \n",
      " 8   transmission_type  15411 non-null  object \n",
      " 9   mileage            15411 non-null  float64\n",
      " 10  engine             15411 non-null  int64  \n",
      " 11  max_power          15411 non-null  float64\n",
      " 12  seats              15411 non-null  int64  \n",
      " 13  selling_price      15411 non-null  int64  \n",
      "dtypes: float64(2), int64(6), object(6)\n",
      "memory usage: 1.6+ MB\n"
     ]
    }
   ],
   "source": [
    "df.info()"
   ]
  },
  {
   "cell_type": "code",
   "execution_count": 4,
   "id": "b1494d03-164a-4880-98bd-65b2097c217f",
   "metadata": {},
   "outputs": [],
   "source": [
    "df.drop(['brand','model','Unnamed: 0'], axis=1, inplace=True)"
   ]
  },
  {
   "cell_type": "code",
   "execution_count": 5,
   "id": "362144a1-8a69-40cb-a4af-4dbb7f47bd96",
   "metadata": {},
   "outputs": [
    {
     "data": {
      "text/html": [
       "<div>\n",
       "<style scoped>\n",
       "    .dataframe tbody tr th:only-of-type {\n",
       "        vertical-align: middle;\n",
       "    }\n",
       "\n",
       "    .dataframe tbody tr th {\n",
       "        vertical-align: top;\n",
       "    }\n",
       "\n",
       "    .dataframe thead th {\n",
       "        text-align: right;\n",
       "    }\n",
       "</style>\n",
       "<table border=\"1\" class=\"dataframe\">\n",
       "  <thead>\n",
       "    <tr style=\"text-align: right;\">\n",
       "      <th></th>\n",
       "      <th>car_name</th>\n",
       "      <th>vehicle_age</th>\n",
       "      <th>km_driven</th>\n",
       "      <th>seller_type</th>\n",
       "      <th>fuel_type</th>\n",
       "      <th>transmission_type</th>\n",
       "      <th>mileage</th>\n",
       "      <th>engine</th>\n",
       "      <th>max_power</th>\n",
       "      <th>seats</th>\n",
       "      <th>selling_price</th>\n",
       "    </tr>\n",
       "  </thead>\n",
       "  <tbody>\n",
       "    <tr>\n",
       "      <th>0</th>\n",
       "      <td>Maruti Alto</td>\n",
       "      <td>9</td>\n",
       "      <td>120000</td>\n",
       "      <td>Individual</td>\n",
       "      <td>Petrol</td>\n",
       "      <td>Manual</td>\n",
       "      <td>19.70</td>\n",
       "      <td>796</td>\n",
       "      <td>46.30</td>\n",
       "      <td>5</td>\n",
       "      <td>120000</td>\n",
       "    </tr>\n",
       "    <tr>\n",
       "      <th>1</th>\n",
       "      <td>Hyundai Grand</td>\n",
       "      <td>5</td>\n",
       "      <td>20000</td>\n",
       "      <td>Individual</td>\n",
       "      <td>Petrol</td>\n",
       "      <td>Manual</td>\n",
       "      <td>18.90</td>\n",
       "      <td>1197</td>\n",
       "      <td>82.00</td>\n",
       "      <td>5</td>\n",
       "      <td>550000</td>\n",
       "    </tr>\n",
       "    <tr>\n",
       "      <th>2</th>\n",
       "      <td>Hyundai i20</td>\n",
       "      <td>11</td>\n",
       "      <td>60000</td>\n",
       "      <td>Individual</td>\n",
       "      <td>Petrol</td>\n",
       "      <td>Manual</td>\n",
       "      <td>17.00</td>\n",
       "      <td>1197</td>\n",
       "      <td>80.00</td>\n",
       "      <td>5</td>\n",
       "      <td>215000</td>\n",
       "    </tr>\n",
       "    <tr>\n",
       "      <th>3</th>\n",
       "      <td>Maruti Alto</td>\n",
       "      <td>9</td>\n",
       "      <td>37000</td>\n",
       "      <td>Individual</td>\n",
       "      <td>Petrol</td>\n",
       "      <td>Manual</td>\n",
       "      <td>20.92</td>\n",
       "      <td>998</td>\n",
       "      <td>67.10</td>\n",
       "      <td>5</td>\n",
       "      <td>226000</td>\n",
       "    </tr>\n",
       "    <tr>\n",
       "      <th>4</th>\n",
       "      <td>Ford Ecosport</td>\n",
       "      <td>6</td>\n",
       "      <td>30000</td>\n",
       "      <td>Dealer</td>\n",
       "      <td>Diesel</td>\n",
       "      <td>Manual</td>\n",
       "      <td>22.77</td>\n",
       "      <td>1498</td>\n",
       "      <td>98.59</td>\n",
       "      <td>5</td>\n",
       "      <td>570000</td>\n",
       "    </tr>\n",
       "  </tbody>\n",
       "</table>\n",
       "</div>"
      ],
      "text/plain": [
       "        car_name  vehicle_age  km_driven seller_type fuel_type  \\\n",
       "0    Maruti Alto            9     120000  Individual    Petrol   \n",
       "1  Hyundai Grand            5      20000  Individual    Petrol   \n",
       "2    Hyundai i20           11      60000  Individual    Petrol   \n",
       "3    Maruti Alto            9      37000  Individual    Petrol   \n",
       "4  Ford Ecosport            6      30000      Dealer    Diesel   \n",
       "\n",
       "  transmission_type  mileage  engine  max_power  seats  selling_price  \n",
       "0            Manual    19.70     796      46.30      5         120000  \n",
       "1            Manual    18.90    1197      82.00      5         550000  \n",
       "2            Manual    17.00    1197      80.00      5         215000  \n",
       "3            Manual    20.92     998      67.10      5         226000  \n",
       "4            Manual    22.77    1498      98.59      5         570000  "
      ]
     },
     "execution_count": 5,
     "metadata": {},
     "output_type": "execute_result"
    }
   ],
   "source": [
    "df.head()"
   ]
  },
  {
   "cell_type": "code",
   "execution_count": 6,
   "id": "cbe37d1c-e7b2-4799-8650-35b9886c0d78",
   "metadata": {},
   "outputs": [
    {
     "name": "stdout",
     "output_type": "stream",
     "text": [
      "Num of Numerical Features : 7\n",
      "Num of Categorical Features : 4\n",
      "Num of Discrete Features : 2\n",
      "Num of Continuous Features : 5\n"
     ]
    }
   ],
   "source": [
    "num_features = [feature for feature in df.columns if df[feature].dtype != 'O']\n",
    "print('Num of Numerical Features :', len(num_features))\n",
    "\n",
    "cat_features = [feature for feature in df.columns if df[feature].dtype == 'O']\n",
    "print('Num of Categorical Features :', len(cat_features))\n",
    "\n",
    "discrete_features=[feature for feature in num_features if len(df[feature].unique())<=25]\n",
    "print('Num of Discrete Features :',len(discrete_features))\n",
    "\n",
    "continuous_features=[feature for feature in num_features if feature not in discrete_features]\n",
    "print('Num of Continuous Features :',len(continuous_features))"
   ]
  },
  {
   "cell_type": "code",
   "execution_count": 7,
   "id": "4e65e874-37e8-4a3b-9fd2-93057ded4ea6",
   "metadata": {},
   "outputs": [],
   "source": [
    "from sklearn.model_selection import train_test_split\n",
    "X = df.drop(['selling_price'], axis=1)\n",
    "y = df['selling_price']"
   ]
  },
  {
   "cell_type": "code",
   "execution_count": 8,
   "id": "d1d9be39-35ee-4814-bb52-fdaec494db96",
   "metadata": {},
   "outputs": [],
   "source": [
    "num_features = X.select_dtypes(exclude=\"object\").columns\n",
    "onehot_columns = ['seller_type','fuel_type','transmission_type']\n",
    "binary_columns = ['car_name']\n",
    "\n",
    "from sklearn.preprocessing import OneHotEncoder, StandardScaler\n",
    "from category_encoders.binary import BinaryEncoder\n",
    "from sklearn.compose import ColumnTransformer\n",
    "\n",
    "numeric_transformer = StandardScaler()\n",
    "oh_transformer = OneHotEncoder()\n",
    "binary_transformer = BinaryEncoder()"
   ]
  },
  {
   "cell_type": "code",
   "execution_count": 10,
   "id": "56d9bc71-ee5e-4e23-8b4b-05e315250617",
   "metadata": {},
   "outputs": [],
   "source": [
    "from sklearn.pipeline import Pipeline"
   ]
  },
  {
   "cell_type": "code",
   "execution_count": 12,
   "id": "ba902694-0a68-40f6-bb96-1681be76099b",
   "metadata": {},
   "outputs": [],
   "source": [
    "from sklearn import set_config\n",
    "set_config(display=\"diagram\")\n"
   ]
  },
  {
   "cell_type": "code",
   "execution_count": 28,
   "id": "c34116cb-1233-4452-aad3-0cf14c6cd5ad",
   "metadata": {},
   "outputs": [],
   "source": [
    "X_train, X_test, y_train, y_test = train_test_split(X,y,test_size=0.2,random_state=42)"
   ]
  },
  {
   "cell_type": "code",
   "execution_count": 29,
   "id": "fe899853-0ee9-4bc9-b0b4-857828d28174",
   "metadata": {},
   "outputs": [],
   "source": [
    "from sklearn.metrics import mean_squared_error, r2_score\n",
    "from sklearn.neighbors import KNeighborsRegressor\n",
    "from sklearn.tree import DecisionTreeRegressor\n",
    "from sklearn.ensemble import RandomForestRegressor,AdaBoostRegressor\n",
    "from sklearn.svm import SVR\n",
    "from sklearn.linear_model import LinearRegression, Ridge,Lasso\n",
    "from sklearn.metrics import r2_score, mean_absolute_error, mean_squared_error\n",
    "from sklearn.model_selection import RandomizedSearchCV\n",
    "from catboost import CatBoostRegressor\n",
    "from xgboost import XGBRegressor"
   ]
  },
  {
   "cell_type": "code",
   "execution_count": 33,
   "id": "1c56f1cc-3979-4891-a820-de1792fc0880",
   "metadata": {},
   "outputs": [],
   "source": [
    "preprocessor = ColumnTransformer(\n",
    "    [\n",
    "        (\"OneHotEncoder\", oh_transformer, onehot_columns),\n",
    "         (\"StandardScaler\", numeric_transformer, num_features),\n",
    "        (\"BinaryEncoder\", binary_transformer, binary_columns)\n",
    "        \n",
    "    ]\n",
    ")"
   ]
  },
  {
   "cell_type": "code",
   "execution_count": 38,
   "id": "774a6b76-6a42-4de3-bc01-370bbaf3af9e",
   "metadata": {},
   "outputs": [],
   "source": [
    "def evaluate_model(true, predicted):\n",
    "    mae = mean_absolute_error(true, predicted)\n",
    "    mse = mean_squared_error(true, predicted)\n",
    "    rmse = np.sqrt(mean_squared_error(true, predicted))\n",
    "    r2_square = r2_score(true, predicted)\n",
    "    return mae, rmse, r2_square"
   ]
  },
  {
   "cell_type": "code",
   "execution_count": 40,
   "id": "2f1d3c4a-6773-436b-878c-0c3b95398c62",
   "metadata": {},
   "outputs": [],
   "source": [
    "model_test_mae , model_test_rmse, model_test_r2 = evaluate_model(y_test, y_test_pred)"
   ]
  },
  {
   "cell_type": "code",
   "execution_count": 76,
   "id": "e4f54cb1-1e1b-4129-8c40-c2243435f37b",
   "metadata": {},
   "outputs": [],
   "source": [
    "pipe0 = Pipeline(steps=[('preprocessor', preprocessor),\n",
    "                      (\"Decision Tree\", DecisionTreeRegressor())])"
   ]
  },
  {
   "cell_type": "code",
   "execution_count": 77,
   "id": "19e6599e-2577-46bc-9e63-5874a974830d",
   "metadata": {},
   "outputs": [],
   "source": [
    "pipe1 = Pipeline(steps=[('preprocessor', preprocessor),\n",
    "                      (\"XGBRegressor\", XGBRegressor())])"
   ]
  },
  {
   "cell_type": "code",
   "execution_count": 78,
   "id": "8e8dbdeb-f04b-4841-bec4-e19493c08c0a",
   "metadata": {},
   "outputs": [],
   "source": [
    "pipe2 = Pipeline(steps=[('preprocessor', preprocessor),\n",
    "                      (\"KNeighbors Regressor\", KNeighborsRegressor())])"
   ]
  },
  {
   "cell_type": "code",
   "execution_count": 79,
   "id": "7697b773-bf52-4456-b645-51f904f486c8",
   "metadata": {},
   "outputs": [
    {
     "data": {
      "text/html": [
       "<style>#sk-container-id-6 {color: black;}#sk-container-id-6 pre{padding: 0;}#sk-container-id-6 div.sk-toggleable {background-color: white;}#sk-container-id-6 label.sk-toggleable__label {cursor: pointer;display: block;width: 100%;margin-bottom: 0;padding: 0.3em;box-sizing: border-box;text-align: center;}#sk-container-id-6 label.sk-toggleable__label-arrow:before {content: \"▸\";float: left;margin-right: 0.25em;color: #696969;}#sk-container-id-6 label.sk-toggleable__label-arrow:hover:before {color: black;}#sk-container-id-6 div.sk-estimator:hover label.sk-toggleable__label-arrow:before {color: black;}#sk-container-id-6 div.sk-toggleable__content {max-height: 0;max-width: 0;overflow: hidden;text-align: left;background-color: #f0f8ff;}#sk-container-id-6 div.sk-toggleable__content pre {margin: 0.2em;color: black;border-radius: 0.25em;background-color: #f0f8ff;}#sk-container-id-6 input.sk-toggleable__control:checked~div.sk-toggleable__content {max-height: 200px;max-width: 100%;overflow: auto;}#sk-container-id-6 input.sk-toggleable__control:checked~label.sk-toggleable__label-arrow:before {content: \"▾\";}#sk-container-id-6 div.sk-estimator input.sk-toggleable__control:checked~label.sk-toggleable__label {background-color: #d4ebff;}#sk-container-id-6 div.sk-label input.sk-toggleable__control:checked~label.sk-toggleable__label {background-color: #d4ebff;}#sk-container-id-6 input.sk-hidden--visually {border: 0;clip: rect(1px 1px 1px 1px);clip: rect(1px, 1px, 1px, 1px);height: 1px;margin: -1px;overflow: hidden;padding: 0;position: absolute;width: 1px;}#sk-container-id-6 div.sk-estimator {font-family: monospace;background-color: #f0f8ff;border: 1px dotted black;border-radius: 0.25em;box-sizing: border-box;margin-bottom: 0.5em;}#sk-container-id-6 div.sk-estimator:hover {background-color: #d4ebff;}#sk-container-id-6 div.sk-parallel-item::after {content: \"\";width: 100%;border-bottom: 1px solid gray;flex-grow: 1;}#sk-container-id-6 div.sk-label:hover label.sk-toggleable__label {background-color: #d4ebff;}#sk-container-id-6 div.sk-serial::before {content: \"\";position: absolute;border-left: 1px solid gray;box-sizing: border-box;top: 0;bottom: 0;left: 50%;z-index: 0;}#sk-container-id-6 div.sk-serial {display: flex;flex-direction: column;align-items: center;background-color: white;padding-right: 0.2em;padding-left: 0.2em;position: relative;}#sk-container-id-6 div.sk-item {position: relative;z-index: 1;}#sk-container-id-6 div.sk-parallel {display: flex;align-items: stretch;justify-content: center;background-color: white;position: relative;}#sk-container-id-6 div.sk-item::before, #sk-container-id-6 div.sk-parallel-item::before {content: \"\";position: absolute;border-left: 1px solid gray;box-sizing: border-box;top: 0;bottom: 0;left: 50%;z-index: -1;}#sk-container-id-6 div.sk-parallel-item {display: flex;flex-direction: column;z-index: 1;position: relative;background-color: white;}#sk-container-id-6 div.sk-parallel-item:first-child::after {align-self: flex-end;width: 50%;}#sk-container-id-6 div.sk-parallel-item:last-child::after {align-self: flex-start;width: 50%;}#sk-container-id-6 div.sk-parallel-item:only-child::after {width: 0;}#sk-container-id-6 div.sk-dashed-wrapped {border: 1px dashed gray;margin: 0 0.4em 0.5em 0.4em;box-sizing: border-box;padding-bottom: 0.4em;background-color: white;}#sk-container-id-6 div.sk-label label {font-family: monospace;font-weight: bold;display: inline-block;line-height: 1.2em;}#sk-container-id-6 div.sk-label-container {text-align: center;}#sk-container-id-6 div.sk-container {/* jupyter's `normalize.less` sets `[hidden] { display: none; }` but bootstrap.min.css set `[hidden] { display: none !important; }` so we also need the `!important` here to be able to override the default hidden behavior on the sphinx rendered scikit-learn.org. See: https://github.com/scikit-learn/scikit-learn/issues/21755 */display: inline-block !important;position: relative;}#sk-container-id-6 div.sk-text-repr-fallback {display: none;}</style><div id=\"sk-container-id-6\" class=\"sk-top-container\"><div class=\"sk-text-repr-fallback\"><pre>Pipeline(steps=[(&#x27;preprocessor&#x27;,\n",
       "                 ColumnTransformer(transformers=[(&#x27;OneHotEncoder&#x27;,\n",
       "                                                  OneHotEncoder(),\n",
       "                                                  [&#x27;seller_type&#x27;, &#x27;fuel_type&#x27;,\n",
       "                                                   &#x27;transmission_type&#x27;]),\n",
       "                                                 (&#x27;StandardScaler&#x27;,\n",
       "                                                  StandardScaler(),\n",
       "                                                  Index([&#x27;vehicle_age&#x27;, &#x27;km_driven&#x27;, &#x27;mileage&#x27;, &#x27;engine&#x27;, &#x27;max_power&#x27;, &#x27;seats&#x27;], dtype=&#x27;object&#x27;)),\n",
       "                                                 (&#x27;BinaryEncoder&#x27;,\n",
       "                                                  BinaryEncoder(),\n",
       "                                                  [&#x27;car_name&#x27;])])),\n",
       "                (&#x27;KNeighbors Regressor&#x27;, KNeighborsRegressor())])</pre><b>In a Jupyter environment, please rerun this cell to show the HTML representation or trust the notebook. <br />On GitHub, the HTML representation is unable to render, please try loading this page with nbviewer.org.</b></div><div class=\"sk-container\" hidden><div class=\"sk-item sk-dashed-wrapped\"><div class=\"sk-label-container\"><div class=\"sk-label sk-toggleable\"><input class=\"sk-toggleable__control sk-hidden--visually\" id=\"sk-estimator-id-14\" type=\"checkbox\" ><label for=\"sk-estimator-id-14\" class=\"sk-toggleable__label sk-toggleable__label-arrow\">Pipeline</label><div class=\"sk-toggleable__content\"><pre>Pipeline(steps=[(&#x27;preprocessor&#x27;,\n",
       "                 ColumnTransformer(transformers=[(&#x27;OneHotEncoder&#x27;,\n",
       "                                                  OneHotEncoder(),\n",
       "                                                  [&#x27;seller_type&#x27;, &#x27;fuel_type&#x27;,\n",
       "                                                   &#x27;transmission_type&#x27;]),\n",
       "                                                 (&#x27;StandardScaler&#x27;,\n",
       "                                                  StandardScaler(),\n",
       "                                                  Index([&#x27;vehicle_age&#x27;, &#x27;km_driven&#x27;, &#x27;mileage&#x27;, &#x27;engine&#x27;, &#x27;max_power&#x27;, &#x27;seats&#x27;], dtype=&#x27;object&#x27;)),\n",
       "                                                 (&#x27;BinaryEncoder&#x27;,\n",
       "                                                  BinaryEncoder(),\n",
       "                                                  [&#x27;car_name&#x27;])])),\n",
       "                (&#x27;KNeighbors Regressor&#x27;, KNeighborsRegressor())])</pre></div></div></div><div class=\"sk-serial\"><div class=\"sk-item sk-dashed-wrapped\"><div class=\"sk-label-container\"><div class=\"sk-label sk-toggleable\"><input class=\"sk-toggleable__control sk-hidden--visually\" id=\"sk-estimator-id-15\" type=\"checkbox\" ><label for=\"sk-estimator-id-15\" class=\"sk-toggleable__label sk-toggleable__label-arrow\">preprocessor: ColumnTransformer</label><div class=\"sk-toggleable__content\"><pre>ColumnTransformer(transformers=[(&#x27;OneHotEncoder&#x27;, OneHotEncoder(),\n",
       "                                 [&#x27;seller_type&#x27;, &#x27;fuel_type&#x27;,\n",
       "                                  &#x27;transmission_type&#x27;]),\n",
       "                                (&#x27;StandardScaler&#x27;, StandardScaler(),\n",
       "                                 Index([&#x27;vehicle_age&#x27;, &#x27;km_driven&#x27;, &#x27;mileage&#x27;, &#x27;engine&#x27;, &#x27;max_power&#x27;, &#x27;seats&#x27;], dtype=&#x27;object&#x27;)),\n",
       "                                (&#x27;BinaryEncoder&#x27;, BinaryEncoder(),\n",
       "                                 [&#x27;car_name&#x27;])])</pre></div></div></div><div class=\"sk-parallel\"><div class=\"sk-parallel-item\"><div class=\"sk-item\"><div class=\"sk-label-container\"><div class=\"sk-label sk-toggleable\"><input class=\"sk-toggleable__control sk-hidden--visually\" id=\"sk-estimator-id-16\" type=\"checkbox\" ><label for=\"sk-estimator-id-16\" class=\"sk-toggleable__label sk-toggleable__label-arrow\">OneHotEncoder</label><div class=\"sk-toggleable__content\"><pre>[&#x27;seller_type&#x27;, &#x27;fuel_type&#x27;, &#x27;transmission_type&#x27;]</pre></div></div></div><div class=\"sk-serial\"><div class=\"sk-item\"><div class=\"sk-estimator sk-toggleable\"><input class=\"sk-toggleable__control sk-hidden--visually\" id=\"sk-estimator-id-17\" type=\"checkbox\" ><label for=\"sk-estimator-id-17\" class=\"sk-toggleable__label sk-toggleable__label-arrow\">OneHotEncoder</label><div class=\"sk-toggleable__content\"><pre>OneHotEncoder()</pre></div></div></div></div></div></div><div class=\"sk-parallel-item\"><div class=\"sk-item\"><div class=\"sk-label-container\"><div class=\"sk-label sk-toggleable\"><input class=\"sk-toggleable__control sk-hidden--visually\" id=\"sk-estimator-id-18\" type=\"checkbox\" ><label for=\"sk-estimator-id-18\" class=\"sk-toggleable__label sk-toggleable__label-arrow\">StandardScaler</label><div class=\"sk-toggleable__content\"><pre>Index([&#x27;vehicle_age&#x27;, &#x27;km_driven&#x27;, &#x27;mileage&#x27;, &#x27;engine&#x27;, &#x27;max_power&#x27;, &#x27;seats&#x27;], dtype=&#x27;object&#x27;)</pre></div></div></div><div class=\"sk-serial\"><div class=\"sk-item\"><div class=\"sk-estimator sk-toggleable\"><input class=\"sk-toggleable__control sk-hidden--visually\" id=\"sk-estimator-id-19\" type=\"checkbox\" ><label for=\"sk-estimator-id-19\" class=\"sk-toggleable__label sk-toggleable__label-arrow\">StandardScaler</label><div class=\"sk-toggleable__content\"><pre>StandardScaler()</pre></div></div></div></div></div></div><div class=\"sk-parallel-item\"><div class=\"sk-item\"><div class=\"sk-label-container\"><div class=\"sk-label sk-toggleable\"><input class=\"sk-toggleable__control sk-hidden--visually\" id=\"sk-estimator-id-20\" type=\"checkbox\" ><label for=\"sk-estimator-id-20\" class=\"sk-toggleable__label sk-toggleable__label-arrow\">BinaryEncoder</label><div class=\"sk-toggleable__content\"><pre>[&#x27;car_name&#x27;]</pre></div></div></div><div class=\"sk-serial\"><div class=\"sk-item\"><div class=\"sk-estimator sk-toggleable\"><input class=\"sk-toggleable__control sk-hidden--visually\" id=\"sk-estimator-id-21\" type=\"checkbox\" ><label for=\"sk-estimator-id-21\" class=\"sk-toggleable__label sk-toggleable__label-arrow\">BinaryEncoder</label><div class=\"sk-toggleable__content\"><pre>BinaryEncoder()</pre></div></div></div></div></div></div></div></div><div class=\"sk-item\"><div class=\"sk-estimator sk-toggleable\"><input class=\"sk-toggleable__control sk-hidden--visually\" id=\"sk-estimator-id-22\" type=\"checkbox\" ><label for=\"sk-estimator-id-22\" class=\"sk-toggleable__label sk-toggleable__label-arrow\">KNeighborsRegressor</label><div class=\"sk-toggleable__content\"><pre>KNeighborsRegressor()</pre></div></div></div></div></div></div></div>"
      ],
      "text/plain": [
       "Pipeline(steps=[('preprocessor',\n",
       "                 ColumnTransformer(transformers=[('OneHotEncoder',\n",
       "                                                  OneHotEncoder(),\n",
       "                                                  ['seller_type', 'fuel_type',\n",
       "                                                   'transmission_type']),\n",
       "                                                 ('StandardScaler',\n",
       "                                                  StandardScaler(),\n",
       "                                                  Index(['vehicle_age', 'km_driven', 'mileage', 'engine', 'max_power', 'seats'], dtype='object')),\n",
       "                                                 ('BinaryEncoder',\n",
       "                                                  BinaryEncoder(),\n",
       "                                                  ['car_name'])])),\n",
       "                ('KNeighbors Regressor', KNeighborsRegressor())])"
      ]
     },
     "execution_count": 79,
     "metadata": {},
     "output_type": "execute_result"
    }
   ],
   "source": [
    "pipe0.fit(X_train,y_train)\n",
    "pipe1.fit(X_train,y_train)\n",
    "pipe2.fit(X_train,y_train)"
   ]
  },
  {
   "cell_type": "code",
   "execution_count": 82,
   "id": "2ebcec6c-c047-48d3-b210-d191417d3afc",
   "metadata": {},
   "outputs": [],
   "source": [
    "pred0=pipe0.predict(X_test)\n",
    "pred1=pipe1.predict(X_test)\n",
    "pred2=pipe2.predict(X_test)\n",
    "pred=pred0+pred1+pred2\n",
    "pred=pred/3"
   ]
  },
  {
   "cell_type": "code",
   "execution_count": 92,
   "id": "7caac950-397b-4568-99a9-28c0eede8ff1",
   "metadata": {},
   "outputs": [
    {
     "name": "stdout",
     "output_type": "stream",
     "text": [
      "Model performance for Test set\n",
      "- Root Mean Squared Error: 210920.9877\n",
      "- Mean Absolute Error: 96263.7429\n",
      "- R2 Score: 0.9409\n"
     ]
    }
   ],
   "source": [
    "model_test_mae , model_test_rmse, model_test_r2 = evaluate_model(y_test, pred)\n",
    "print('Model performance for Test set')\n",
    "print(\"- Root Mean Squared Error: {:.4f}\".format(model_test_rmse))\n",
    "print(\"- Mean Absolute Error: {:.4f}\".format(model_test_mae))\n",
    "print(\"- R2 Score: {:.4f}\".format(model_test_r2))"
   ]
  },
  {
   "cell_type": "code",
   "execution_count": 89,
   "id": "ce1a224c-cc42-4430-b29e-5cbb40a62186",
   "metadata": {},
   "outputs": [
    {
     "data": {
      "text/plain": [
       "['pipe2.joblib']"
      ]
     },
     "execution_count": 89,
     "metadata": {},
     "output_type": "execute_result"
    }
   ],
   "source": [
    "from joblib import dump,load\n",
    "\n",
    "# Save the model as a pickle file\n",
    "dump(pipe0, 'pipe0.joblib')\n",
    "dump(pipe1, 'pipe1.joblib')\n",
    "dump(pipe2, 'pipe2.joblib')\n",
    "\n"
   ]
  },
  {
   "cell_type": "code",
   "execution_count": 90,
   "id": "30809cac-4a87-477a-bde9-a0793ab31995",
   "metadata": {},
   "outputs": [],
   "source": [
    "\n",
    "# Load the model from the file\n",
    "clf0 = load('pipe0.joblib')\n",
    "clf1= load('pipe1.joblib')\n",
    "clf2= load('pipe2.joblib')"
   ]
  },
  {
   "cell_type": "code",
   "execution_count": 91,
   "id": "865f0cca-66de-41e8-a062-3c2fc4ee4005",
   "metadata": {},
   "outputs": [],
   "source": [
    "pred0=clf0.predict(X_test)\n",
    "pred1=clf1.predict(X_test)\n",
    "pred2=clf2.predict(X_test)\n",
    "pred=pred0+pred1+pred2\n",
    "pred=pred/3"
   ]
  },
  {
   "cell_type": "code",
   "execution_count": 95,
   "id": "425eb016-94e2-4984-8052-f1df5c1b1435",
   "metadata": {},
   "outputs": [
    {
     "data": {
      "text/plain": [
       "121"
      ]
     },
     "execution_count": 95,
     "metadata": {},
     "output_type": "execute_result"
    }
   ],
   "source": [
    "len(X['car_name'].unique())"
   ]
  },
  {
   "cell_type": "code",
   "execution_count": 96,
   "id": "02c09015-ed06-4250-b61a-e54bd0290dce",
   "metadata": {},
   "outputs": [
    {
     "data": {
      "text/plain": [
       "array(['Maruti Alto', 'Hyundai Grand', 'Hyundai i20', 'Ford Ecosport',\n",
       "       'Maruti Wagon R', 'Hyundai i10', 'Hyundai Venue', 'Maruti Swift',\n",
       "       'Hyundai Verna', 'Renault Duster', 'Mini Cooper', 'Maruti Ciaz',\n",
       "       'Mercedes-Benz C-Class', 'Toyota Innova', 'Maruti Baleno',\n",
       "       'Maruti Swift Dzire', 'Volkswagen Vento', 'Hyundai Creta',\n",
       "       'Honda City', 'Mahindra Bolero', 'Toyota Fortuner', 'Renault KWID',\n",
       "       'Honda Amaze', 'Hyundai Santro', 'Mahindra XUV500',\n",
       "       'Mahindra KUV100', 'Maruti Ignis', 'Datsun RediGO',\n",
       "       'Mahindra Scorpio', 'Mahindra Marazzo', 'Ford Aspire', 'Ford Figo',\n",
       "       'Maruti Vitara', 'Tata Tiago', 'Volkswagen Polo', 'Kia Seltos',\n",
       "       'Maruti Celerio', 'Datsun GO', 'BMW 5', 'Honda CR-V',\n",
       "       'Ford Endeavour', 'Mahindra KUV', 'Honda Jazz', 'BMW 3', 'Audi A4',\n",
       "       'Tata Tigor', 'Maruti Ertiga', 'Tata Safari', 'Mahindra Thar',\n",
       "       'Tata Hexa', 'Land Rover Rover', 'Maruti Eeco', 'Audi A6',\n",
       "       'Mercedes-Benz E-Class', 'Audi Q7', 'BMW Z4', 'BMW 6', 'Jaguar XF',\n",
       "       'BMW X5', 'MG Hector', 'Honda Civic', 'Isuzu D-Max',\n",
       "       'Porsche Cayenne', 'BMW X1', 'Skoda Rapid', 'Ford Freestyle',\n",
       "       'Skoda Superb', 'Tata Nexon', 'Mahindra XUV300',\n",
       "       'Maruti Dzire VXI', 'Volvo S90', 'Honda WR-V', 'Maruti XL6',\n",
       "       'Renault Triber', 'Lexus ES', 'Jeep Wrangler', 'Toyota Camry',\n",
       "       'Hyundai Elantra', 'Toyota Yaris', 'Mercedes-Benz GL-Class',\n",
       "       'BMW 7', 'Maruti S-Presso', 'Maruti Dzire LXI', 'Hyundai Aura',\n",
       "       'Volvo XC', 'Maserati Ghibli', 'Bentley Continental', 'Honda CR',\n",
       "       'Nissan Kicks', 'Mercedes-Benz S-Class', 'Hyundai Tucson',\n",
       "       'Tata Harrier', 'BMW X3', 'Skoda Octavia', 'Jeep Compass',\n",
       "       'Mercedes-Benz CLS', 'Datsun redi-GO', 'Toyota Glanza',\n",
       "       'Porsche Macan', 'BMW X4', 'Maruti Dzire ZXI', 'Volvo XC90',\n",
       "       'Jaguar F-PACE', 'Audi A8', 'ISUZU MUX', 'Ferrari GTC4Lusso',\n",
       "       'Mercedes-Benz GLS', 'Nissan X-Trail', 'Jaguar XE', 'Volvo XC60',\n",
       "       'Porsche Panamera', 'Mahindra Alturas', 'Tata Altroz', 'Lexus NX',\n",
       "       'Kia Carnival', 'Mercedes-AMG C', 'Lexus RX', 'Rolls-Royce Ghost',\n",
       "       'Maserati Quattroporte', 'Isuzu MUX', 'Force Gurkha'], dtype=object)"
      ]
     },
     "execution_count": 96,
     "metadata": {},
     "output_type": "execute_result"
    }
   ],
   "source": [
    "X['car_name'].unique()"
   ]
  },
  {
   "cell_type": "code",
   "execution_count": 103,
   "id": "8dd612b7-ae15-40dc-abb4-35e238255dbe",
   "metadata": {},
   "outputs": [
    {
     "data": {
      "text/plain": [
       "array([140000.])"
      ]
     },
     "execution_count": 103,
     "metadata": {},
     "output_type": "execute_result"
    }
   ],
   "source": [
    "clf0.predict(df)"
   ]
  },
  {
   "cell_type": "code",
   "execution_count": 104,
   "id": "1d384195-d80f-4489-83d1-a90eb142af24",
   "metadata": {},
   "outputs": [],
   "source": [
    "col=['car_name', 'vehicle_age', 'km_driven', 'seller_type', 'fuel_type','transmission_type', 'mileage', 'engine', 'max_power', 'seats']"
   ]
  },
  {
   "cell_type": "code",
   "execution_count": 106,
   "id": "66376daf-b18d-48a6-a05c-c9266af8dc2a",
   "metadata": {},
   "outputs": [],
   "source": [
    "values=[\"Maruti Alto\",5,5,\"Individual\",\"Petrol\",\"Automatic\",5,5,5,5]"
   ]
  },
  {
   "cell_type": "code",
   "execution_count": 108,
   "id": "a7bf25f6-87ac-4779-b41d-0ba319311832",
   "metadata": {},
   "outputs": [],
   "source": [
    "data = dict(zip(col, values))\n",
    "\n",
    "X_test = pd.DataFrame(data, index=[0])\n",
    "pred0=clf0.predict(X_test)\n",
    "pred1=clf1.predict(X_test)\n",
    "pred2=clf2.predict(X_test)\n",
    "pred=pred0+pred1+pred2\n",
    "pred=pred/3"
   ]
  },
  {
   "cell_type": "code",
   "execution_count": 112,
   "id": "56d2fffa-2c97-4662-b184-6110b454abc4",
   "metadata": {},
   "outputs": [
    {
     "data": {
      "text/plain": [
       "318436"
      ]
     },
     "execution_count": 112,
     "metadata": {},
     "output_type": "execute_result"
    }
   ],
   "source": [
    "int(pred)"
   ]
  },
  {
   "cell_type": "code",
   "execution_count": 113,
   "id": "16d84856-d051-4820-83ac-cc040d44806c",
   "metadata": {},
   "outputs": [
    {
     "data": {
      "text/plain": [
       "array([318436.13541667])"
      ]
     },
     "execution_count": 113,
     "metadata": {},
     "output_type": "execute_result"
    }
   ],
   "source": [
    "pred"
   ]
  },
  {
   "cell_type": "code",
   "execution_count": null,
   "id": "e45ae360-8962-4f52-8b13-f3ab7e406f51",
   "metadata": {},
   "outputs": [],
   "source": []
  }
 ],
 "metadata": {
  "kernelspec": {
   "display_name": "Python 3 (ipykernel)",
   "language": "python",
   "name": "python3"
  },
  "language_info": {
   "codemirror_mode": {
    "name": "ipython",
    "version": 3
   },
   "file_extension": ".py",
   "mimetype": "text/x-python",
   "name": "python",
   "nbconvert_exporter": "python",
   "pygments_lexer": "ipython3",
   "version": "3.10.10"
  }
 },
 "nbformat": 4,
 "nbformat_minor": 5
}
